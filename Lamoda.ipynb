{
 "cells": [
  {
   "cell_type": "code",
   "execution_count": 51,
   "metadata": {},
   "outputs": [],
   "source": [
    "import pandas as pd\n",
    "import numpy as np\n",
    "import snoop\n",
    "from pprint import pprint as print\n",
    "from tabulate import tabulate \n",
    "import dataframe_image as dfi\n",
    "from IPython.core.interactiveshell import InteractiveShell\n",
    "InteractiveShell.ast_node_interactivity = \"all\""
   ]
  },
  {
   "cell_type": "code",
   "execution_count": 58,
   "metadata": {},
   "outputs": [
    {
     "name": "stderr",
     "output_type": "stream",
     "text": [
      "[0124/015500.950027:ERROR:xattr.cc(63)] setxattr org.chromium.crashpad.database.initialized on file /var/folders/t0/fw3jvl196_v78v94hzhxhpgw0000gn/T/: Operation not permitted (1)\n",
      "[0124/015500.953175:ERROR:file_io.cc(94)] ReadExactly: expected 8, observed 0\n",
      "[0124/015500.956750:ERROR:xattr.cc(63)] setxattr org.chromium.crashpad.database.initialized on file /var/folders/t0/fw3jvl196_v78v94hzhxhpgw0000gn/T/: Operation not permitted (1)\n",
      "[0124/015502.509772:INFO:headless_shell.cc(653)] Written to file /var/folders/t0/fw3jvl196_v78v94hzhxhpgw0000gn/T/tmp9oshhsu9/temp.png.\n"
     ]
    }
   ],
   "source": [
    "df = pd.read_excel(\"dataframe_lamoda.xlsm\")\n",
    "df.columns = [i.lower() for i in df.columns]\n",
    "df.drop(\"delivery date\", axis=1, inplace=True)\n",
    "t = df.groupby(\"postcode\").sum()\n",
    "t[\"mean_val\"] = t[\"value_delivered\"] / t[\"orders_shipped\"]\n",
    "t = t.reset_index()\n",
    "\n",
    "t[\"returns\"] = t[\"value_shipped\"] - t[\"value_delivered\"]\n",
    "t = t.sort_values(by=[\"mean_val\"], ascending=False).set_index(\"postcode\")\n",
    "\n",
    "t[\"delivered_percent\"] = t[\"orders_delivered\"] / (t[\"orders_shipped\"])\n",
    "dfi.export(\n",
    "    t.sort_values([\"delivered_percent\", \"value_delivered\"], ascending=False), \"im.png\"\n",
    ")\n"
   ]
  },
  {
   "cell_type": "code",
   "execution_count": 17,
   "metadata": {},
   "outputs": [
    {
     "data": {
      "text/html": [
       "<div>\n",
       "<style scoped>\n",
       "    .dataframe tbody tr th:only-of-type {\n",
       "        vertical-align: middle;\n",
       "    }\n",
       "\n",
       "    .dataframe tbody tr th {\n",
       "        vertical-align: top;\n",
       "    }\n",
       "\n",
       "    .dataframe thead th {\n",
       "        text-align: right;\n",
       "    }\n",
       "</style>\n",
       "<table border=\"1\" class=\"dataframe\">\n",
       "  <thead>\n",
       "    <tr style=\"text-align: right;\">\n",
       "      <th></th>\n",
       "      <th>postcode</th>\n",
       "      <th>K_1</th>\n",
       "      <th>returns</th>\n",
       "    </tr>\n",
       "  </thead>\n",
       "  <tbody>\n",
       "    <tr>\n",
       "      <th>0</th>\n",
       "      <td>111114</td>\n",
       "      <td>9630.389950</td>\n",
       "      <td>30006.13640</td>\n",
       "    </tr>\n",
       "    <tr>\n",
       "      <th>1</th>\n",
       "      <td>111116</td>\n",
       "      <td>5030.952414</td>\n",
       "      <td>29720.00000</td>\n",
       "    </tr>\n",
       "    <tr>\n",
       "      <th>2</th>\n",
       "      <td>111115</td>\n",
       "      <td>4702.884637</td>\n",
       "      <td>84304.84845</td>\n",
       "    </tr>\n",
       "    <tr>\n",
       "      <th>3</th>\n",
       "      <td>111113</td>\n",
       "      <td>4519.192762</td>\n",
       "      <td>113544.16685</td>\n",
       "    </tr>\n",
       "    <tr>\n",
       "      <th>4</th>\n",
       "      <td>111111</td>\n",
       "      <td>2530.451462</td>\n",
       "      <td>537941.70505</td>\n",
       "    </tr>\n",
       "    <tr>\n",
       "      <th>5</th>\n",
       "      <td>111112</td>\n",
       "      <td>2014.695569</td>\n",
       "      <td>43135.72220</td>\n",
       "    </tr>\n",
       "  </tbody>\n",
       "</table>\n",
       "</div>"
      ],
      "text/plain": [
       "   postcode          K_1       returns\n",
       "0    111114  9630.389950   30006.13640\n",
       "1    111116  5030.952414   29720.00000\n",
       "2    111115  4702.884637   84304.84845\n",
       "3    111113  4519.192762  113544.16685\n",
       "4    111111  2530.451462  537941.70505\n",
       "5    111112  2014.695569   43135.72220"
      ]
     },
     "execution_count": 17,
     "metadata": {},
     "output_type": "execute_result"
    }
   ],
   "source": [
    "t.reset_index()[['postcode', 'K_1', 'returns']]"
   ]
  },
  {
   "cell_type": "code",
   "execution_count": 15,
   "metadata": {},
   "outputs": [
    {
     "name": "stderr",
     "output_type": "stream",
     "text": [
      "[0124/010409.183115:ERROR:xattr.cc(63)] setxattr org.chromium.crashpad.database.initialized on file /var/folders/t0/fw3jvl196_v78v94hzhxhpgw0000gn/T/: Operation not permitted (1)\n",
      "[0124/010409.186824:ERROR:file_io.cc(94)] ReadExactly: expected 8, observed 0\n",
      "[0124/010409.190670:ERROR:xattr.cc(63)] setxattr org.chromium.crashpad.database.initialized on file /var/folders/t0/fw3jvl196_v78v94hzhxhpgw0000gn/T/: Operation not permitted (1)\n",
      "[0124/010410.553690:INFO:headless_shell.cc(653)] Written to file /var/folders/t0/fw3jvl196_v78v94hzhxhpgw0000gn/T/tmpc3zb6vmq/temp.png.\n"
     ]
    }
   ],
   "source": [
    "dfi.export(t.reset_index()[['postcode', 'K_1']], 'K_1.png')"
   ]
  },
  {
   "cell_type": "code",
   "execution_count": null,
   "metadata": {},
   "outputs": [],
   "source": []
  }
 ],
 "metadata": {
  "interpreter": {
   "hash": "1be9856963ee0560708bb2052661aa27357a5b7ae3c19a3b57a929c8d7be175e"
  },
  "kernelspec": {
   "display_name": "Python 3.9.7 64-bit ('base': conda)",
   "language": "python",
   "name": "python3"
  },
  "language_info": {
   "codemirror_mode": {
    "name": "ipython",
    "version": 3
   },
   "file_extension": ".py",
   "mimetype": "text/x-python",
   "name": "python",
   "nbconvert_exporter": "python",
   "pygments_lexer": "ipython3",
   "version": "3.9.2"
  },
  "orig_nbformat": 4
 },
 "nbformat": 4,
 "nbformat_minor": 2
}
