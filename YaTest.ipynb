{
 "cells": [
  {
   "cell_type": "code",
   "execution_count": 1,
   "metadata": {},
   "outputs": [],
   "source": [
    "import pandas as pd\n",
    "import numpy as np\n",
    "import scipy.stats as stats\n",
    "from pprint import pprint\n",
    "import snoop"
   ]
  },
  {
   "cell_type": "markdown",
   "metadata": {},
   "source": [
    "Во-первых, для меня это возможность углубить свой преподавательский опыт и поделиться уже имеющимся, плюс мне очень интересно ознакомиться с программой Яндекс.Практикума. В дальнейшем хотелось бы ревьюить также работы с потока не только аналитиков, но и дата-сайентистов."
   ]
  },
  {
   "cell_type": "markdown",
   "metadata": {},
   "source": [
    "1. Определите пересекающуюся аудиторию в рамках групп treatment и control. Какой размер пересекающейся аудитории?"
   ]
  },
  {
   "cell_type": "code",
   "execution_count": 95,
   "metadata": {},
   "outputs": [],
   "source": [
    "df1, df2 = pd.read_csv('ab_data.csv'), pd.read_csv('revenue_data.csv')"
   ]
  },
  {
   "cell_type": "code",
   "execution_count": 3,
   "metadata": {},
   "outputs": [
    {
     "data": {
      "text/html": [
       "<div>\n",
       "<style scoped>\n",
       "    .dataframe tbody tr th:only-of-type {\n",
       "        vertical-align: middle;\n",
       "    }\n",
       "\n",
       "    .dataframe tbody tr th {\n",
       "        vertical-align: top;\n",
       "    }\n",
       "\n",
       "    .dataframe thead th {\n",
       "        text-align: right;\n",
       "    }\n",
       "</style>\n",
       "<table border=\"1\" class=\"dataframe\">\n",
       "  <thead>\n",
       "    <tr style=\"text-align: right;\">\n",
       "      <th></th>\n",
       "      <th>user_id</th>\n",
       "      <th>timestamp</th>\n",
       "      <th>group</th>\n",
       "      <th>landing_page</th>\n",
       "      <th>converted</th>\n",
       "    </tr>\n",
       "  </thead>\n",
       "  <tbody>\n",
       "    <tr>\n",
       "      <th>0</th>\n",
       "      <td>851104</td>\n",
       "      <td>2017-01-21 22:11:48.556739</td>\n",
       "      <td>control</td>\n",
       "      <td>old_page</td>\n",
       "      <td>0</td>\n",
       "    </tr>\n",
       "    <tr>\n",
       "      <th>1</th>\n",
       "      <td>804228</td>\n",
       "      <td>2017-01-12 08:01:45.159739</td>\n",
       "      <td>control</td>\n",
       "      <td>old_page</td>\n",
       "      <td>0</td>\n",
       "    </tr>\n",
       "    <tr>\n",
       "      <th>2</th>\n",
       "      <td>661590</td>\n",
       "      <td>2017-01-11 16:55:06.154213</td>\n",
       "      <td>treatment</td>\n",
       "      <td>new_page</td>\n",
       "      <td>0</td>\n",
       "    </tr>\n",
       "    <tr>\n",
       "      <th>3</th>\n",
       "      <td>853541</td>\n",
       "      <td>2017-01-08 18:28:03.143765</td>\n",
       "      <td>treatment</td>\n",
       "      <td>new_page</td>\n",
       "      <td>0</td>\n",
       "    </tr>\n",
       "    <tr>\n",
       "      <th>4</th>\n",
       "      <td>864975</td>\n",
       "      <td>2017-01-21 01:52:26.210827</td>\n",
       "      <td>control</td>\n",
       "      <td>old_page</td>\n",
       "      <td>1</td>\n",
       "    </tr>\n",
       "  </tbody>\n",
       "</table>\n",
       "</div>"
      ],
      "text/plain": [
       "   user_id                   timestamp      group landing_page  converted\n",
       "0   851104  2017-01-21 22:11:48.556739    control     old_page          0\n",
       "1   804228  2017-01-12 08:01:45.159739    control     old_page          0\n",
       "2   661590  2017-01-11 16:55:06.154213  treatment     new_page          0\n",
       "3   853541  2017-01-08 18:28:03.143765  treatment     new_page          0\n",
       "4   864975  2017-01-21 01:52:26.210827    control     old_page          1"
      ]
     },
     "execution_count": 3,
     "metadata": {},
     "output_type": "execute_result"
    }
   ],
   "source": [
    "df1.head()"
   ]
  },
  {
   "cell_type": "code",
   "execution_count": 96,
   "metadata": {},
   "outputs": [
    {
     "data": {
      "text/plain": [
       "1895"
      ]
     },
     "execution_count": 96,
     "metadata": {},
     "output_type": "execute_result"
    }
   ],
   "source": [
    "t = set(df1[df1['group']=='treatment']['user_id'])\n",
    "c = set(df1[df1['group']=='control']['user_id'])\n",
    "intersection = t & c\n",
    "len(intersection)"
   ]
  },
  {
   "cell_type": "code",
   "execution_count": 123,
   "metadata": {},
   "outputs": [
    {
     "data": {
      "text/html": [
       "<div>\n",
       "<style scoped>\n",
       "    .dataframe tbody tr th:only-of-type {\n",
       "        vertical-align: middle;\n",
       "    }\n",
       "\n",
       "    .dataframe tbody tr th {\n",
       "        vertical-align: top;\n",
       "    }\n",
       "\n",
       "    .dataframe thead th {\n",
       "        text-align: right;\n",
       "    }\n",
       "</style>\n",
       "<table border=\"1\" class=\"dataframe\">\n",
       "  <thead>\n",
       "    <tr style=\"text-align: right;\">\n",
       "      <th></th>\n",
       "      <th>user_id</th>\n",
       "      <th>timestamp</th>\n",
       "      <th>group</th>\n",
       "      <th>landing_page</th>\n",
       "      <th>converted</th>\n",
       "      <th>revenue</th>\n",
       "    </tr>\n",
       "  </thead>\n",
       "  <tbody>\n",
       "    <tr>\n",
       "      <th>0</th>\n",
       "      <td>851104</td>\n",
       "      <td>2017-01-21 22:11:48.556739</td>\n",
       "      <td>control</td>\n",
       "      <td>old_page</td>\n",
       "      <td>0</td>\n",
       "      <td>10.284548</td>\n",
       "    </tr>\n",
       "    <tr>\n",
       "      <th>1</th>\n",
       "      <td>804228</td>\n",
       "      <td>2017-01-12 08:01:45.159739</td>\n",
       "      <td>control</td>\n",
       "      <td>old_page</td>\n",
       "      <td>0</td>\n",
       "      <td>7.649273</td>\n",
       "    </tr>\n",
       "    <tr>\n",
       "      <th>2</th>\n",
       "      <td>661590</td>\n",
       "      <td>2017-01-11 16:55:06.154213</td>\n",
       "      <td>treatment</td>\n",
       "      <td>new_page</td>\n",
       "      <td>0</td>\n",
       "      <td>11.909644</td>\n",
       "    </tr>\n",
       "    <tr>\n",
       "      <th>3</th>\n",
       "      <td>853541</td>\n",
       "      <td>2017-01-08 18:28:03.143765</td>\n",
       "      <td>treatment</td>\n",
       "      <td>new_page</td>\n",
       "      <td>0</td>\n",
       "      <td>23.693355</td>\n",
       "    </tr>\n",
       "    <tr>\n",
       "      <th>4</th>\n",
       "      <td>864975</td>\n",
       "      <td>2017-01-21 01:52:26.210827</td>\n",
       "      <td>control</td>\n",
       "      <td>old_page</td>\n",
       "      <td>1</td>\n",
       "      <td>19.996224</td>\n",
       "    </tr>\n",
       "    <tr>\n",
       "      <th>...</th>\n",
       "      <td>...</td>\n",
       "      <td>...</td>\n",
       "      <td>...</td>\n",
       "      <td>...</td>\n",
       "      <td>...</td>\n",
       "      <td>...</td>\n",
       "    </tr>\n",
       "    <tr>\n",
       "      <th>290683</th>\n",
       "      <td>751197</td>\n",
       "      <td>2017-01-03 22:28:38.630509</td>\n",
       "      <td>control</td>\n",
       "      <td>old_page</td>\n",
       "      <td>0</td>\n",
       "      <td>17.600421</td>\n",
       "    </tr>\n",
       "    <tr>\n",
       "      <th>290684</th>\n",
       "      <td>945152</td>\n",
       "      <td>2017-01-12 00:51:57.078372</td>\n",
       "      <td>control</td>\n",
       "      <td>old_page</td>\n",
       "      <td>0</td>\n",
       "      <td>10.936073</td>\n",
       "    </tr>\n",
       "    <tr>\n",
       "      <th>290685</th>\n",
       "      <td>734608</td>\n",
       "      <td>2017-01-22 11:45:03.439544</td>\n",
       "      <td>control</td>\n",
       "      <td>old_page</td>\n",
       "      <td>0</td>\n",
       "      <td>8.701321</td>\n",
       "    </tr>\n",
       "    <tr>\n",
       "      <th>290686</th>\n",
       "      <td>697314</td>\n",
       "      <td>2017-01-15 01:20:28.957438</td>\n",
       "      <td>control</td>\n",
       "      <td>old_page</td>\n",
       "      <td>0</td>\n",
       "      <td>19.623677</td>\n",
       "    </tr>\n",
       "    <tr>\n",
       "      <th>290687</th>\n",
       "      <td>715931</td>\n",
       "      <td>2017-01-16 12:40:24.467417</td>\n",
       "      <td>treatment</td>\n",
       "      <td>new_page</td>\n",
       "      <td>0</td>\n",
       "      <td>22.512333</td>\n",
       "    </tr>\n",
       "  </tbody>\n",
       "</table>\n",
       "<p>290688 rows × 6 columns</p>\n",
       "</div>"
      ],
      "text/plain": [
       "        user_id                   timestamp      group landing_page  \\\n",
       "0        851104  2017-01-21 22:11:48.556739    control     old_page   \n",
       "1        804228  2017-01-12 08:01:45.159739    control     old_page   \n",
       "2        661590  2017-01-11 16:55:06.154213  treatment     new_page   \n",
       "3        853541  2017-01-08 18:28:03.143765  treatment     new_page   \n",
       "4        864975  2017-01-21 01:52:26.210827    control     old_page   \n",
       "...         ...                         ...        ...          ...   \n",
       "290683   751197  2017-01-03 22:28:38.630509    control     old_page   \n",
       "290684   945152  2017-01-12 00:51:57.078372    control     old_page   \n",
       "290685   734608  2017-01-22 11:45:03.439544    control     old_page   \n",
       "290686   697314  2017-01-15 01:20:28.957438    control     old_page   \n",
       "290687   715931  2017-01-16 12:40:24.467417  treatment     new_page   \n",
       "\n",
       "        converted    revenue  \n",
       "0               0  10.284548  \n",
       "1               0   7.649273  \n",
       "2               0  11.909644  \n",
       "3               0  23.693355  \n",
       "4               1  19.996224  \n",
       "...           ...        ...  \n",
       "290683          0  17.600421  \n",
       "290684          0  10.936073  \n",
       "290685          0   8.701321  \n",
       "290686          0  19.623677  \n",
       "290687          0  22.512333  \n",
       "\n",
       "[290688 rows x 6 columns]"
      ]
     },
     "execution_count": 123,
     "metadata": {},
     "output_type": "execute_result"
    }
   ],
   "source": [
    "t = df1.set_index('user_id').join(df2.set_index('user_id'), on='user_id')\n",
    "t.reset_index()"
   ]
  },
  {
   "cell_type": "code",
   "execution_count": 126,
   "metadata": {},
   "outputs": [
    {
     "data": {
      "text/plain": [
       "(1743984.959263918, 1745055.1948785384)"
      ]
     },
     "execution_count": 126,
     "metadata": {},
     "output_type": "execute_result"
    }
   ],
   "source": [
    "sum(t[t['group']=='treatment']['revenue']), sum(t[t['group']=='control']['revenue'])"
   ]
  },
  {
   "cell_type": "code",
   "execution_count": 132,
   "metadata": {},
   "outputs": [
    {
     "data": {
      "text/plain": [
       "MannwhitneyuResult(statistic=10533746341.0, pvalue=0.10233488468531643)"
      ]
     },
     "execution_count": 132,
     "metadata": {},
     "output_type": "execute_result"
    }
   ],
   "source": [
    "import scipy\n",
    "\n",
    "scipy.stats.mannwhitneyu(\n",
    "    t[t[\"group\"] == \"treatment\"][\"revenue\"], t[t[\"group\"] == \"control\"][\"revenue\"], alternative='less')"
   ]
  },
  {
   "cell_type": "code",
   "execution_count": 135,
   "metadata": {},
   "outputs": [
    {
     "name": "stdout",
     "output_type": "stream",
     "text": [
      "a    1\n",
      "b    2\n",
      "dtype: int64\n",
      "1\n"
     ]
    }
   ],
   "source": [
    "s1 = pd.Series(data=[1, 2], index=['a', 'b']) # можем вызвать s1['a']\n",
    "print(s1)\n",
    "print(s1['a'])"
   ]
  },
  {
   "cell_type": "code",
   "execution_count": 137,
   "metadata": {},
   "outputs": [
    {
     "name": "stdout",
     "output_type": "stream",
     "text": [
      "a    3\n",
      "b    4\n",
      "dtype: int64\n",
      "3\n"
     ]
    }
   ],
   "source": [
    "s2 = pd.Series(data=[3, 4], index=['a', 'b'])\n",
    "print(s2)\n",
    "print(s2['a'])"
   ]
  },
  {
   "cell_type": "markdown",
   "metadata": {},
   "source": [
    "Во-первых, Series это одномерная структура данных представляющая из себя набор пар \"ключ-значение\", где ключи могут выступать в роли индексов. Если объединить несколько series с одинаковыми ключами (индексами) то получится DataFrame, двумерная структура данных – таблица, в которой бывшие индексы будут названиями столбцов. \n",
    "https://dsc.cloud/999174/pb-NNpRObM3R0.png"
   ]
  },
  {
   "cell_type": "markdown",
   "metadata": {},
   "source": []
  },
  {
   "cell_type": "code",
   "execution_count": 144,
   "metadata": {},
   "outputs": [
    {
     "data": {
      "text/html": [
       "<div>\n",
       "<style scoped>\n",
       "    .dataframe tbody tr th:only-of-type {\n",
       "        vertical-align: middle;\n",
       "    }\n",
       "\n",
       "    .dataframe tbody tr th {\n",
       "        vertical-align: top;\n",
       "    }\n",
       "\n",
       "    .dataframe thead th {\n",
       "        text-align: right;\n",
       "    }\n",
       "</style>\n",
       "<table border=\"1\" class=\"dataframe\">\n",
       "  <thead>\n",
       "    <tr style=\"text-align: right;\">\n",
       "      <th></th>\n",
       "      <th>a</th>\n",
       "      <th>b</th>\n",
       "    </tr>\n",
       "  </thead>\n",
       "  <tbody>\n",
       "    <tr>\n",
       "      <th>0</th>\n",
       "      <td>1</td>\n",
       "      <td>2</td>\n",
       "    </tr>\n",
       "    <tr>\n",
       "      <th>1</th>\n",
       "      <td>3</td>\n",
       "      <td>4</td>\n",
       "    </tr>\n",
       "  </tbody>\n",
       "</table>\n",
       "</div>"
      ],
      "text/plain": [
       "   a  b\n",
       "0  1  2\n",
       "1  3  4"
      ]
     },
     "execution_count": 144,
     "metadata": {},
     "output_type": "execute_result"
    }
   ],
   "source": [
    "s3 = pd.DataFrame(data=[s1, s2])\n",
    "s3"
   ]
  },
  {
   "cell_type": "code",
   "execution_count": 97,
   "metadata": {},
   "outputs": [],
   "source": [
    "df1 = df1.set_index('user_id').drop(intersection, axis=0)\n",
    "# len(df1)\n",
    "df1 = df1.reset_index()"
   ]
  },
  {
   "cell_type": "markdown",
   "metadata": {},
   "source": [
    "Очистите данные от сессий пользователей, которые входят в пересекающуюся аудиторию. Все дальнейшие манипуляции производите с очищенными данными\n",
    "\n",
    "Какое количество уникальных пользователей в группе control?"
   ]
  },
  {
   "cell_type": "code",
   "execution_count": 35,
   "metadata": {},
   "outputs": [
    {
     "data": {
      "text/plain": [
       "144300"
      ]
     },
     "execution_count": 35,
     "metadata": {},
     "output_type": "execute_result"
    }
   ],
   "source": [
    "c = set(df1[df1['group']=='control'].index)\n",
    "len(c)"
   ]
  },
  {
   "cell_type": "code",
   "execution_count": 99,
   "metadata": {},
   "outputs": [],
   "source": [
    "temp = df1.groupby('timestamp')['user_id'].count()"
   ]
  },
  {
   "cell_type": "code",
   "execution_count": 105,
   "metadata": {},
   "outputs": [],
   "source": [
    "temp=df1.groupby(['user_id'])['timestamp'].count()"
   ]
  },
  {
   "cell_type": "code",
   "execution_count": 112,
   "metadata": {},
   "outputs": [
    {
     "data": {
      "text/plain": [
       "1999"
      ]
     },
     "execution_count": 112,
     "metadata": {},
     "output_type": "execute_result"
    }
   ],
   "source": [
    "len(temp[temp==2])"
   ]
  },
  {
   "cell_type": "code",
   "execution_count": 32,
   "metadata": {},
   "outputs": [
    {
     "data": {
      "text/plain": [
       "Int64Index([851104, 804228, 864975, 936923, 719014, 644214, 847721, 650559,\n",
       "            935734, 746742,\n",
       "            ...\n",
       "            834362, 923948, 857744, 755438, 908354, 718310, 751197, 945152,\n",
       "            734608, 697314],\n",
       "           dtype='int64', name='user_id', length=145307)"
      ]
     },
     "execution_count": 32,
     "metadata": {},
     "output_type": "execute_result"
    }
   ],
   "source": [
    "df1[df1['group']=='control'].index"
   ]
  },
  {
   "cell_type": "markdown",
   "metadata": {},
   "source": [
    "Какое количество пользователей совершили более чем 1 сессии за время наблюдений?"
   ]
  },
  {
   "cell_type": "code",
   "execution_count": 41,
   "metadata": {},
   "outputs": [],
   "source": [
    "g = df1.reset_index()\n",
    "g = g.groupby(['user_id']).count()['timestamp']\n",
    "g.value_counts()"
   ]
  },
  {
   "cell_type": "markdown",
   "metadata": {},
   "source": [
    "Конверсия рассчитывается как отношение количества сессий к количеству сессий, в которых произошла конверсия (колонка converted). Какая нижняя граница доверительного интревала для конверсии при условии, что alpha = 0.05? (Ответ дайте с точностью до 3 знаков после запятой, используйте математическое округление. Ответ - число в виде десятичной дроби, а не процентного числа)"
   ]
  },
  {
   "cell_type": "code",
   "execution_count": 64,
   "metadata": {},
   "outputs": [],
   "source": [
    "mean_conv = len(df1[df1['converted']==1])/len(df1)"
   ]
  },
  {
   "cell_type": "code",
   "execution_count": 74,
   "metadata": {},
   "outputs": [],
   "source": [
    "from statsmodels.stats.proportion import proportion_confint"
   ]
  },
  {
   "cell_type": "code",
   "execution_count": 75,
   "metadata": {},
   "outputs": [
    {
     "data": {
      "text/plain": [
       "(0.1184570898267346, 0.12081663320276782)"
      ]
     },
     "execution_count": 75,
     "metadata": {},
     "output_type": "execute_result"
    }
   ],
   "source": [
    "proportion_confint(sum(df1['converted']), len(df1), method='normal')"
   ]
  },
  {
   "cell_type": "code",
   "execution_count": null,
   "metadata": {},
   "outputs": [],
   "source": [
    "df3['budget'].apply(lambda x: )"
   ]
  },
  {
   "cell_type": "code",
   "execution_count": 83,
   "metadata": {},
   "outputs": [],
   "source": [
    "df3 = pd.read_csv('movie_metadata.csv')"
   ]
  },
  {
   "cell_type": "markdown",
   "metadata": {},
   "source": [
    "Загрузите датасет movie_metadata.csv, который содержит данные о фильмах из базы IMDb (Internet Movie Database). Колонка duration - данные о длительности фильма.\n",
    "\n",
    "Сколько пропущенных значений содержится в этой колонке?"
   ]
  },
  {
   "cell_type": "code",
   "execution_count": 97,
   "metadata": {},
   "outputs": [],
   "source": [
    "df3.duration.fillna(value=np.mean(df3.duration), inplace=True)"
   ]
  },
  {
   "cell_type": "markdown",
   "metadata": {},
   "source": [
    "Создайте колонку movie_duration_category, которая содержала бы 3 категории в зависимости от длительности фильма:\n",
    "\n",
    "Категория \"1. < 90\", если фильм длится менее 90 минут;\n",
    "Категория \"2. 90-120\", если фильм длится от 90 минут до 2 часов (включительно);\n",
    "Категория \"3. > 120\", если фильм длится больше 2 часов.\n",
    "Постройте сводную таблицу для фильмов с годом выпуска после 2000 (включительно), которая отражала бы количество фильмов:\n",
    "\n",
    "В строках таблицы - год;\n",
    "В столбцах таблицы - категория длительности фильма (\"< 90\", \"90-120\", \"> 120\");\n",
    "Год фильма должен быть представлен в формате YYYY\n",
    "Сколько фильмов с длительностью от 90 минут до 2 часов было выпущено в 2008 году?"
   ]
  },
  {
   "cell_type": "code",
   "execution_count": 48,
   "metadata": {},
   "outputs": [],
   "source": [
    "df3['mov_dur_cat'] = pd.cut(df3.duration, bins=[-np.inf, 90, 120, np.inf])"
   ]
  },
  {
   "cell_type": "code",
   "execution_count": 78,
   "metadata": {},
   "outputs": [],
   "source": [
    "t = df3.groupby(['title_year', 'mov_dur_cat']).count()"
   ]
  },
  {
   "cell_type": "code",
   "execution_count": 87,
   "metadata": {},
   "outputs": [
    {
     "data": {
      "text/plain": [
       "35874316.003569305"
      ]
     },
     "execution_count": 87,
     "metadata": {},
     "output_type": "execute_result"
    }
   ],
   "source": [
    "np.mean(df3['budget'].astype('float'))"
   ]
  },
  {
   "cell_type": "code",
   "execution_count": 85,
   "metadata": {},
   "outputs": [],
   "source": [
    "df3['budget'] = df3.budget.apply(lambda x: x[:-1])"
   ]
  },
  {
   "cell_type": "code",
   "execution_count": 138,
   "metadata": {},
   "outputs": [],
   "source": [
    "df3.budget = df3.budget.apply(lambda x: x[:-3])"
   ]
  },
  {
   "cell_type": "code",
   "execution_count": 3,
   "metadata": {},
   "outputs": [],
   "source": [
    "# df3['plot_keywords'][0].split('|')\n",
    "# @snoop\n",
    "def foo(keywords):\n",
    "    if keywords is not df3.plot_keywords[4]:\n",
    "        keywords = keywords.split('|')\n",
    "        if ['love', 'death' ] in keywords: return 'love_and_death'\n",
    "        elif 'love' in keywords: return 'love'\n",
    "        elif 'death' in keywords: return 'death'\n",
    "        else: return 'other'\n",
    "    else:\n",
    "        return 'other'\n",
    "df3['mov_cat'] = df3['plot_keywords'].apply(lambda x: foo(x))"
   ]
  },
  {
   "cell_type": "code",
   "execution_count": 9,
   "metadata": {},
   "outputs": [
    {
     "data": {
      "text/plain": [
       "mov_cat\n",
       "death    6.508130\n",
       "love     6.540404\n",
       "other    6.436298\n",
       "Name: imdb_score, dtype: float64"
      ]
     },
     "execution_count": 9,
     "metadata": {},
     "output_type": "execute_result"
    }
   ],
   "source": [
    "df3.groupby('mov_cat').mean()['imdb_score']"
   ]
  },
  {
   "cell_type": "code",
   "execution_count": 5,
   "metadata": {},
   "outputs": [
    {
     "data": {
      "text/html": [
       "<div>\n",
       "<style scoped>\n",
       "    .dataframe tbody tr th:only-of-type {\n",
       "        vertical-align: middle;\n",
       "    }\n",
       "\n",
       "    .dataframe tbody tr th {\n",
       "        vertical-align: top;\n",
       "    }\n",
       "\n",
       "    .dataframe thead th {\n",
       "        text-align: right;\n",
       "    }\n",
       "</style>\n",
       "<table border=\"1\" class=\"dataframe\">\n",
       "  <thead>\n",
       "    <tr style=\"text-align: right;\">\n",
       "      <th></th>\n",
       "      <th>color</th>\n",
       "      <th>director_name</th>\n",
       "      <th>num_critic_for_reviews</th>\n",
       "      <th>duration</th>\n",
       "      <th>director_facebook_likes</th>\n",
       "      <th>actor_3_facebook_likes</th>\n",
       "      <th>actor_2_name</th>\n",
       "      <th>actor_1_facebook_likes</th>\n",
       "      <th>gross</th>\n",
       "      <th>genres</th>\n",
       "      <th>...</th>\n",
       "      <th>language</th>\n",
       "      <th>country</th>\n",
       "      <th>content_rating</th>\n",
       "      <th>budget</th>\n",
       "      <th>title_year</th>\n",
       "      <th>actor_2_facebook_likes</th>\n",
       "      <th>imdb_score</th>\n",
       "      <th>aspect_ratio</th>\n",
       "      <th>movie_facebook_likes</th>\n",
       "      <th>mov_cat</th>\n",
       "    </tr>\n",
       "  </thead>\n",
       "  <tbody>\n",
       "    <tr>\n",
       "      <th>9</th>\n",
       "      <td>Color</td>\n",
       "      <td>David Yates</td>\n",
       "      <td>375.0</td>\n",
       "      <td>153.0</td>\n",
       "      <td>282.0</td>\n",
       "      <td>10000.0</td>\n",
       "      <td>Daniel Radcliffe</td>\n",
       "      <td>25000.0</td>\n",
       "      <td>301956980.0</td>\n",
       "      <td>Adventure|Family|Fantasy|Mystery</td>\n",
       "      <td>...</td>\n",
       "      <td>English</td>\n",
       "      <td>UK</td>\n",
       "      <td>PG</td>\n",
       "      <td>250000000.0$</td>\n",
       "      <td>2009.0</td>\n",
       "      <td>11000.0</td>\n",
       "      <td>7.5</td>\n",
       "      <td>2.35</td>\n",
       "      <td>10000</td>\n",
       "      <td>love</td>\n",
       "    </tr>\n",
       "    <tr>\n",
       "      <th>26</th>\n",
       "      <td>Color</td>\n",
       "      <td>James Cameron</td>\n",
       "      <td>315.0</td>\n",
       "      <td>194.0</td>\n",
       "      <td>0.0</td>\n",
       "      <td>794.0</td>\n",
       "      <td>Kate Winslet</td>\n",
       "      <td>29000.0</td>\n",
       "      <td>658672302.0</td>\n",
       "      <td>Drama|Romance</td>\n",
       "      <td>...</td>\n",
       "      <td>English</td>\n",
       "      <td>USA</td>\n",
       "      <td>PG-13</td>\n",
       "      <td>200000000.0$</td>\n",
       "      <td>1997.0</td>\n",
       "      <td>14000.0</td>\n",
       "      <td>7.7</td>\n",
       "      <td>2.35</td>\n",
       "      <td>26000</td>\n",
       "      <td>love</td>\n",
       "    </tr>\n",
       "    <tr>\n",
       "      <th>104</th>\n",
       "      <td>Color</td>\n",
       "      <td>Jon Turteltaub</td>\n",
       "      <td>235.0</td>\n",
       "      <td>109.0</td>\n",
       "      <td>226.0</td>\n",
       "      <td>370.0</td>\n",
       "      <td>Omar Benson Miller</td>\n",
       "      <td>12000.0</td>\n",
       "      <td>63143812.0</td>\n",
       "      <td>Action|Adventure|Family|Fantasy</td>\n",
       "      <td>...</td>\n",
       "      <td>English</td>\n",
       "      <td>USA</td>\n",
       "      <td>PG</td>\n",
       "      <td>150000000.0$</td>\n",
       "      <td>2010.0</td>\n",
       "      <td>418.0</td>\n",
       "      <td>6.1</td>\n",
       "      <td>2.35</td>\n",
       "      <td>11000</td>\n",
       "      <td>love</td>\n",
       "    </tr>\n",
       "    <tr>\n",
       "      <th>233</th>\n",
       "      <td>Color</td>\n",
       "      <td>James L. Brooks</td>\n",
       "      <td>168.0</td>\n",
       "      <td>121.0</td>\n",
       "      <td>274.0</td>\n",
       "      <td>157.0</td>\n",
       "      <td>Domenick Lombardozzi</td>\n",
       "      <td>273.0</td>\n",
       "      <td>30212620.0</td>\n",
       "      <td>Comedy|Drama|Romance</td>\n",
       "      <td>...</td>\n",
       "      <td>English</td>\n",
       "      <td>USA</td>\n",
       "      <td>PG-13</td>\n",
       "      <td>120000000.0$</td>\n",
       "      <td>2010.0</td>\n",
       "      <td>216.0</td>\n",
       "      <td>5.3</td>\n",
       "      <td>1.85</td>\n",
       "      <td>0</td>\n",
       "      <td>love</td>\n",
       "    </tr>\n",
       "    <tr>\n",
       "      <th>309</th>\n",
       "      <td>Color</td>\n",
       "      <td>Joel Schumacher</td>\n",
       "      <td>144.0</td>\n",
       "      <td>121.0</td>\n",
       "      <td>541.0</td>\n",
       "      <td>680.0</td>\n",
       "      <td>Rene Auberjonois</td>\n",
       "      <td>920.0</td>\n",
       "      <td>184031112.0</td>\n",
       "      <td>Action|Adventure|Fantasy</td>\n",
       "      <td>...</td>\n",
       "      <td>English</td>\n",
       "      <td>USA</td>\n",
       "      <td>PG-13</td>\n",
       "      <td>100000000.0$</td>\n",
       "      <td>1995.0</td>\n",
       "      <td>710.0</td>\n",
       "      <td>5.4</td>\n",
       "      <td>1.85</td>\n",
       "      <td>0</td>\n",
       "      <td>love</td>\n",
       "    </tr>\n",
       "    <tr>\n",
       "      <th>...</th>\n",
       "      <td>...</td>\n",
       "      <td>...</td>\n",
       "      <td>...</td>\n",
       "      <td>...</td>\n",
       "      <td>...</td>\n",
       "      <td>...</td>\n",
       "      <td>...</td>\n",
       "      <td>...</td>\n",
       "      <td>...</td>\n",
       "      <td>...</td>\n",
       "      <td>...</td>\n",
       "      <td>...</td>\n",
       "      <td>...</td>\n",
       "      <td>...</td>\n",
       "      <td>...</td>\n",
       "      <td>...</td>\n",
       "      <td>...</td>\n",
       "      <td>...</td>\n",
       "      <td>...</td>\n",
       "      <td>...</td>\n",
       "      <td>...</td>\n",
       "    </tr>\n",
       "    <tr>\n",
       "      <th>4882</th>\n",
       "      <td>Color</td>\n",
       "      <td>Dan Curtis</td>\n",
       "      <td>NaN</td>\n",
       "      <td>99.0</td>\n",
       "      <td>45.0</td>\n",
       "      <td>224.0</td>\n",
       "      <td>Campbell Scott</td>\n",
       "      <td>1000.0</td>\n",
       "      <td>NaN</td>\n",
       "      <td>Fantasy|Romance</td>\n",
       "      <td>...</td>\n",
       "      <td>English</td>\n",
       "      <td>USA</td>\n",
       "      <td>Unrated</td>\n",
       "      <td>0.0$</td>\n",
       "      <td>1998.0</td>\n",
       "      <td>393.0</td>\n",
       "      <td>7.4</td>\n",
       "      <td>1.33</td>\n",
       "      <td>515</td>\n",
       "      <td>love</td>\n",
       "    </tr>\n",
       "    <tr>\n",
       "      <th>4930</th>\n",
       "      <td>Color</td>\n",
       "      <td>Gary Winick</td>\n",
       "      <td>91.0</td>\n",
       "      <td>78.0</td>\n",
       "      <td>56.0</td>\n",
       "      <td>184.0</td>\n",
       "      <td>Aaron Stanford</td>\n",
       "      <td>376.0</td>\n",
       "      <td>2882062.0</td>\n",
       "      <td>Comedy|Drama|Romance</td>\n",
       "      <td>...</td>\n",
       "      <td>English</td>\n",
       "      <td>USA</td>\n",
       "      <td>PG-13</td>\n",
       "      <td>150000.0$</td>\n",
       "      <td>2000.0</td>\n",
       "      <td>346.0</td>\n",
       "      <td>6.3</td>\n",
       "      <td>1.85</td>\n",
       "      <td>132</td>\n",
       "      <td>love</td>\n",
       "    </tr>\n",
       "    <tr>\n",
       "      <th>4942</th>\n",
       "      <td>Color</td>\n",
       "      <td>Paul Schrader</td>\n",
       "      <td>130.0</td>\n",
       "      <td>93.0</td>\n",
       "      <td>261.0</td>\n",
       "      <td>697.0</td>\n",
       "      <td>Ruby Dee</td>\n",
       "      <td>783.0</td>\n",
       "      <td>NaN</td>\n",
       "      <td>Fantasy|Horror|Thriller</td>\n",
       "      <td>...</td>\n",
       "      <td>English</td>\n",
       "      <td>USA</td>\n",
       "      <td>R</td>\n",
       "      <td>18000000.0$</td>\n",
       "      <td>1982.0</td>\n",
       "      <td>782.0</td>\n",
       "      <td>6.1</td>\n",
       "      <td>1.85</td>\n",
       "      <td>0</td>\n",
       "      <td>love</td>\n",
       "    </tr>\n",
       "    <tr>\n",
       "      <th>4984</th>\n",
       "      <td>Color</td>\n",
       "      <td>Edward Burns</td>\n",
       "      <td>36.0</td>\n",
       "      <td>98.0</td>\n",
       "      <td>0.0</td>\n",
       "      <td>73.0</td>\n",
       "      <td>Michael McGlone</td>\n",
       "      <td>138.0</td>\n",
       "      <td>10246600.0</td>\n",
       "      <td>Comedy|Drama|Romance</td>\n",
       "      <td>...</td>\n",
       "      <td>English</td>\n",
       "      <td>USA</td>\n",
       "      <td>R</td>\n",
       "      <td>25000.0$</td>\n",
       "      <td>1995.0</td>\n",
       "      <td>111.0</td>\n",
       "      <td>6.6</td>\n",
       "      <td>1.85</td>\n",
       "      <td>265</td>\n",
       "      <td>love</td>\n",
       "    </tr>\n",
       "    <tr>\n",
       "      <th>5011</th>\n",
       "      <td>Color</td>\n",
       "      <td>Neil LaBute</td>\n",
       "      <td>80.0</td>\n",
       "      <td>97.0</td>\n",
       "      <td>119.0</td>\n",
       "      <td>7.0</td>\n",
       "      <td>Matt Malloy</td>\n",
       "      <td>136.0</td>\n",
       "      <td>2856622.0</td>\n",
       "      <td>Comedy|Drama</td>\n",
       "      <td>...</td>\n",
       "      <td>English</td>\n",
       "      <td>Canada</td>\n",
       "      <td>R</td>\n",
       "      <td>25000.0$</td>\n",
       "      <td>1997.0</td>\n",
       "      <td>108.0</td>\n",
       "      <td>7.3</td>\n",
       "      <td>1.85</td>\n",
       "      <td>489</td>\n",
       "      <td>love</td>\n",
       "    </tr>\n",
       "  </tbody>\n",
       "</table>\n",
       "<p>198 rows × 29 columns</p>\n",
       "</div>"
      ],
      "text/plain": [
       "      color    director_name  num_critic_for_reviews  duration  \\\n",
       "9     Color      David Yates                   375.0     153.0   \n",
       "26    Color    James Cameron                   315.0     194.0   \n",
       "104   Color   Jon Turteltaub                   235.0     109.0   \n",
       "233   Color  James L. Brooks                   168.0     121.0   \n",
       "309   Color  Joel Schumacher                   144.0     121.0   \n",
       "...     ...              ...                     ...       ...   \n",
       "4882  Color       Dan Curtis                     NaN      99.0   \n",
       "4930  Color      Gary Winick                    91.0      78.0   \n",
       "4942  Color    Paul Schrader                   130.0      93.0   \n",
       "4984  Color     Edward Burns                    36.0      98.0   \n",
       "5011  Color      Neil LaBute                    80.0      97.0   \n",
       "\n",
       "      director_facebook_likes  actor_3_facebook_likes          actor_2_name  \\\n",
       "9                       282.0                 10000.0      Daniel Radcliffe   \n",
       "26                        0.0                   794.0          Kate Winslet   \n",
       "104                     226.0                   370.0    Omar Benson Miller   \n",
       "233                     274.0                   157.0  Domenick Lombardozzi   \n",
       "309                     541.0                   680.0      Rene Auberjonois   \n",
       "...                       ...                     ...                   ...   \n",
       "4882                     45.0                   224.0        Campbell Scott   \n",
       "4930                     56.0                   184.0        Aaron Stanford   \n",
       "4942                    261.0                   697.0              Ruby Dee   \n",
       "4984                      0.0                    73.0       Michael McGlone   \n",
       "5011                    119.0                     7.0           Matt Malloy   \n",
       "\n",
       "      actor_1_facebook_likes        gross                            genres  \\\n",
       "9                    25000.0  301956980.0  Adventure|Family|Fantasy|Mystery   \n",
       "26                   29000.0  658672302.0                     Drama|Romance   \n",
       "104                  12000.0   63143812.0   Action|Adventure|Family|Fantasy   \n",
       "233                    273.0   30212620.0              Comedy|Drama|Romance   \n",
       "309                    920.0  184031112.0          Action|Adventure|Fantasy   \n",
       "...                      ...          ...                               ...   \n",
       "4882                  1000.0          NaN                   Fantasy|Romance   \n",
       "4930                   376.0    2882062.0              Comedy|Drama|Romance   \n",
       "4942                   783.0          NaN           Fantasy|Horror|Thriller   \n",
       "4984                   138.0   10246600.0              Comedy|Drama|Romance   \n",
       "5011                   136.0    2856622.0                      Comedy|Drama   \n",
       "\n",
       "      ... language country  content_rating        budget title_year  \\\n",
       "9     ...  English      UK              PG  250000000.0$     2009.0   \n",
       "26    ...  English     USA           PG-13  200000000.0$     1997.0   \n",
       "104   ...  English     USA              PG  150000000.0$     2010.0   \n",
       "233   ...  English     USA           PG-13  120000000.0$     2010.0   \n",
       "309   ...  English     USA           PG-13  100000000.0$     1995.0   \n",
       "...   ...      ...     ...             ...           ...        ...   \n",
       "4882  ...  English     USA         Unrated          0.0$     1998.0   \n",
       "4930  ...  English     USA           PG-13     150000.0$     2000.0   \n",
       "4942  ...  English     USA               R   18000000.0$     1982.0   \n",
       "4984  ...  English     USA               R      25000.0$     1995.0   \n",
       "5011  ...  English  Canada               R      25000.0$     1997.0   \n",
       "\n",
       "      actor_2_facebook_likes imdb_score aspect_ratio  movie_facebook_likes  \\\n",
       "9                    11000.0        7.5         2.35                 10000   \n",
       "26                   14000.0        7.7         2.35                 26000   \n",
       "104                    418.0        6.1         2.35                 11000   \n",
       "233                    216.0        5.3         1.85                     0   \n",
       "309                    710.0        5.4         1.85                     0   \n",
       "...                      ...        ...          ...                   ...   \n",
       "4882                   393.0        7.4         1.33                   515   \n",
       "4930                   346.0        6.3         1.85                   132   \n",
       "4942                   782.0        6.1         1.85                     0   \n",
       "4984                   111.0        6.6         1.85                   265   \n",
       "5011                   108.0        7.3         1.85                   489   \n",
       "\n",
       "     mov_cat  \n",
       "9       love  \n",
       "26      love  \n",
       "104     love  \n",
       "233     love  \n",
       "309     love  \n",
       "...      ...  \n",
       "4882    love  \n",
       "4930    love  \n",
       "4942    love  \n",
       "4984    love  \n",
       "5011    love  \n",
       "\n",
       "[198 rows x 29 columns]"
      ]
     },
     "execution_count": 5,
     "metadata": {},
     "output_type": "execute_result"
    }
   ],
   "source": [
    "df3[df3['mov_cat']=='love']"
   ]
  },
  {
   "cell_type": "markdown",
   "metadata": {},
   "source": [
    "Даны две случайные величины X и Y. Про них известно, что:\n",
    "E X = 0.5, D X = 2\n",
    "E Y = 7, D Y = 3.5\n",
    "cov (X, Y) = -0.8\n",
    "Найдите дисперсию случайной величины Z = 2 X - 3 Y (верное решение будет между 45 и 50)."
   ]
  },
  {
   "cell_type": "markdown",
   "metadata": {},
   "source": [
    "$$Var_{X-Y}=Var^2_X+Var^2_Y-2Cov_{XY}$$\n",
    "$$Var_X=E[X^2]-E[X]^2$$\n"
   ]
  },
  {
   "cell_type": "markdown",
   "metadata": {},
   "source": [
    "$$\n",
    "\\begin{aligned}\n",
    "&\\operatorname{Var}(a X+b Y)=a^{2} \\operatorname{Var}(X)+b^{2} \\operatorname{Var}(Y)+2 a b \\operatorname{Cov}(X, Y) \\\\\n",
    "&\\operatorname{Var}(a X-b Y)=a^{2} \\operatorname{Var}(X)+b^{2} \\operatorname{Var}(Y)-2 a b \\operatorname{Cov}(X, Y)\n",
    "\\end{aligned}\n",
    "$$"
   ]
  },
  {
   "cell_type": "code",
   "execution_count": 39,
   "metadata": {},
   "outputs": [],
   "source": [
    "import sympy\n",
    "from sympy import Symbol as sym\n",
    "var_x, var_y = sympy.Symbol(\"var_x\"), sympy.Symbol(\"var_y\")\n",
    "var_z = sympy.Symbol(\"var_z\")\n",
    "a, b = sympy.Symbol(\"a\"), sympy.Symbol('b')\n",
    "cov_xy = sympy.Symbol(\"cov_xy\")"
   ]
  },
  {
   "cell_type": "code",
   "execution_count": 36,
   "metadata": {},
   "outputs": [],
   "source": [
    "E_X2, E2_X = sym('E_X2'), sym('E2_X')"
   ]
  },
  {
   "cell_type": "code",
   "execution_count": 37,
   "metadata": {},
   "outputs": [],
   "source": [
    "var_x = E_X2 - E2_X"
   ]
  },
  {
   "cell_type": "code",
   "execution_count": 42,
   "metadata": {},
   "outputs": [],
   "source": [
    "var_z = a*a*var_x+b**2*var_y-2*a*b*cov_xy"
   ]
  },
  {
   "cell_type": "code",
   "execution_count": 41,
   "metadata": {},
   "outputs": [
    {
     "data": {
      "text/latex": [
       "$\\displaystyle var_{z}$"
      ],
      "text/plain": [
       "var_z"
      ]
     },
     "execution_count": 41,
     "metadata": {},
     "output_type": "execute_result"
    }
   ],
   "source": [
    "var_z"
   ]
  },
  {
   "cell_type": "code",
   "execution_count": 43,
   "metadata": {},
   "outputs": [
    {
     "data": {
      "text/latex": [
       "$\\displaystyle 49.1$"
      ],
      "text/plain": [
       "49.1000000000000"
      ]
     },
     "execution_count": 43,
     "metadata": {},
     "output_type": "execute_result"
    }
   ],
   "source": [
    "var_z.subs([(a, 2), (b, 3), (var_x, 2), (var_y, 3.5), (cov_xy, -0.8)])\n"
   ]
  },
  {
   "cell_type": "code",
   "execution_count": null,
   "metadata": {},
   "outputs": [],
   "source": []
  }
 ],
 "metadata": {
  "interpreter": {
   "hash": "1be9856963ee0560708bb2052661aa27357a5b7ae3c19a3b57a929c8d7be175e"
  },
  "kernelspec": {
   "display_name": "Python 3.9.7 64-bit ('base': conda)",
   "language": "python",
   "name": "python3"
  },
  "language_info": {
   "codemirror_mode": {
    "name": "ipython",
    "version": 3
   },
   "file_extension": ".py",
   "mimetype": "text/x-python",
   "name": "python",
   "nbconvert_exporter": "python",
   "pygments_lexer": "ipython3",
   "version": "3.9.7"
  },
  "orig_nbformat": 4
 },
 "nbformat": 4,
 "nbformat_minor": 2
}
